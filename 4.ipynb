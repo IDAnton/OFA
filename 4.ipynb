{
 "cells": [
  {
   "cell_type": "code",
   "execution_count": 8,
   "id": "03639b00-4682-49e1-9195-5be17ed11f19",
   "metadata": {},
   "outputs": [],
   "source": [
    "from math import cos, sin, pi, sqrt\n",
    "from numpy import abs\n",
    "import matplotlib.pyplot as plt"
   ]
  },
  {
   "cell_type": "code",
   "execution_count": 2,
   "id": "dd668e32-a6c0-4ae4-ad35-ffdda5182b82",
   "metadata": {},
   "outputs": [],
   "source": [
    "def simpson(f, a, b, N=100):\n",
    "    result = 0\n",
    "    step = (b - a) / N\n",
    "    for i in range(N):\n",
    "        a = i * step\n",
    "        b = (i + 1) * step\n",
    "        result += (f(a) + 4*f((a + b)/2) + f(b)) * step / 6\n",
    "    return result"
   ]
  },
  {
   "cell_type": "code",
   "execution_count": 3,
   "id": "fbab79dd-da35-479c-b776-c189314271b1",
   "metadata": {},
   "outputs": [],
   "source": [
    "def J(m, x, integral=simpson):\n",
    "    return integral(lambda t: cos(m*t - x*sin(t)), 0, pi) / pi"
   ]
  },
  {
   "cell_type": "code",
   "execution_count": 18,
   "id": "0821976c-d031-4b77-806d-65b7d5c14c46",
   "metadata": {},
   "outputs": [
    {
     "name": "stdout",
     "output_type": "stream",
     "text": [
      "628318\n"
     ]
    }
   ],
   "source": [
    "acc = 10**-10\n",
    "step = sqrt(acc)\n",
    "N = int(2*pi / step)\n",
    "print(N)\n",
    "\n",
    "N = 100000\n",
    "step = 2*pi/N\n",
    "res = []\n",
    "for i in range(N+1):\n",
    "    res.append((J(0, step*(i+1)) - J(0, step*(i-1)))/(2*step)  +  J(1, step*i))"
   ]
  },
  {
   "cell_type": "code",
   "execution_count": 19,
   "id": "5414a310-cb50-4c6c-b79d-d6641ae1177b",
   "metadata": {},
   "outputs": [
    {
     "data": {
      "text/plain": [
       "2.7567981231158e-10"
      ]
     },
     "execution_count": 19,
     "metadata": {},
     "output_type": "execute_result"
    }
   ],
   "source": [
    "max(abs(res))"
   ]
  },
  {
   "cell_type": "code",
   "execution_count": null,
   "id": "a457425d-8105-41ad-81b8-49cb6014f5fb",
   "metadata": {},
   "outputs": [],
   "source": []
  }
 ],
 "metadata": {
  "kernelspec": {
   "display_name": "Python 3 (ipykernel)",
   "language": "python",
   "name": "python3"
  },
  "language_info": {
   "codemirror_mode": {
    "name": "ipython",
    "version": 3
   },
   "file_extension": ".py",
   "mimetype": "text/x-python",
   "name": "python",
   "nbconvert_exporter": "python",
   "pygments_lexer": "ipython3",
   "version": "3.11.3"
  }
 },
 "nbformat": 4,
 "nbformat_minor": 5
}
