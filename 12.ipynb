{
 "cells": [
  {
   "cell_type": "code",
   "execution_count": null,
   "outputs": [],
   "source": [
    "import numpy as np\n",
    "import matplotlib.pyplot as plt\n",
    "from random import randint\n",
    "\n",
    "n = 100\n",
    "a0 = 1\n",
    "a1 = 0.002\n",
    "w0 = 5.1\n",
    "w1 = 25.5\n",
    "t0 = 0\n",
    "t1 = 2*np.pi\n",
    "t = np.linspace(t0, t1, n)\n",
    "dt = (t1-t0)/n\n",
    "\n",
    "signal =  a0 * np.sin(w0 * t) + a1 * np.sin(w1 * t)\n",
    "plt.plot(t, signal, marker=\".\", label=\"signal\")\n",
    "plt.show()"
   ],
   "metadata": {
    "collapsed": false,
    "is_executing": true,
    "ExecuteTime": {
     "start_time": "2024-01-27T22:49:16.704568500Z"
    }
   },
   "id": "initial_id"
  },
  {
   "cell_type": "code",
   "execution_count": null,
   "outputs": [],
   "source": [
    "transformed = np.empty(t.shape, dtype=np.complex_)\n",
    "for i in range(n):\n",
    "    tmp = 0j\n",
    "    for k in range(n) :\n",
    "        tmp += signal[k] * np.exp(-2 * pi * (1j) * i * k / n)\n",
    "    transformed[i] = tmp / n\n",
    "\n",
    "plt.plot(transformed, marker=\".\", label=\"signal\")\n",
    "plt.show()"
   ],
   "metadata": {
    "collapsed": false,
    "is_executing": true
   },
   "id": "d80321306128bbfc"
  },
  {
   "cell_type": "code",
   "execution_count": null,
   "outputs": [],
   "source": [
    "restored = np.empty(t.shape, dtype=np.complex_)\n",
    "for i in range(n):\n",
    "    tmp = 0j\n",
    "    for k in range(n) :\n",
    "        tmp += transformed[k] * np.exp(2 * pi * (1j) * i * k / n)\n",
    "    restored[i] = tmp \n",
    "plt.plot(t, restored, marker=\".\", label=\"restored\")\n",
    "plt.plot(t, signal, marker=\".\", label=\"signal\")\n",
    "plt.legend()\n",
    "plt.show()"
   ],
   "metadata": {
    "collapsed": false,
    "is_executing": true
   },
   "id": "ac2d36d16ec81584"
  },
  {
   "cell_type": "code",
   "execution_count": null,
   "outputs": [],
   "source": [
    "transformed_with_window = np.empty(t.shape, dtype=np.complex_)\n",
    "for i in range(n):\n",
    "    tmp = 0j\n",
    "    for k in range(n) :\n",
    "        tmp += signal[k] * np.exp(-2 * pi * (1j) * i * k / n) * 0.5*(1 - cos(2 * pi * k / n))\n",
    "    transformed_with_window[i] = tmp / n\n",
    "plt.plot(transformed_with_window, marker=\".\", label=\"signal\")\n",
    "plt.show()"
   ],
   "metadata": {
    "collapsed": false,
    "is_executing": true
   },
   "id": "135a8f0a86a4bde5"
  },
  {
   "cell_type": "code",
   "execution_count": null,
   "outputs": [],
   "source": [
    "restored_with_window = np.empty(t.shape, dtype=np.complex_)\n",
    "for i in range(n):\n",
    "    tmp = 0j\n",
    "    for k in range(n) :\n",
    "        tmp += transformed_with_window[k] * np.exp(2 * pi * (1j) * i * k / n)\n",
    "    restored_with_window[i] = tmp \n",
    "plt.plot(t, restored_with_window, marker=\".\", label=\"restored with window\")\n",
    "plt.plot(t, signal, marker=\".\", label=\"signal\")\n",
    "plt.legend()\n",
    "plt.show()"
   ],
   "metadata": {
    "collapsed": false,
    "is_executing": true
   },
   "id": "3018067e4fe74686"
  },
  {
   "cell_type": "code",
   "execution_count": null,
   "outputs": [],
   "source": [],
   "metadata": {
    "collapsed": false,
    "is_executing": true
   },
   "id": "6dee9dae393f609"
  }
 ],
 "metadata": {
  "kernelspec": {
   "display_name": "Python 3",
   "language": "python",
   "name": "python3"
  },
  "language_info": {
   "codemirror_mode": {
    "name": "ipython",
    "version": 2
   },
   "file_extension": ".py",
   "mimetype": "text/x-python",
   "name": "python",
   "nbconvert_exporter": "python",
   "pygments_lexer": "ipython2",
   "version": "2.7.6"
  }
 },
 "nbformat": 4,
 "nbformat_minor": 5
}
