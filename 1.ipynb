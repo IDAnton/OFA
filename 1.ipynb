{
 "cells": [
  {
   "cell_type": "code",
   "execution_count": 1,
   "id": "6225a799-d009-431a-b3e6-cedc7962111b",
   "metadata": {
    "tags": []
   },
   "outputs": [
    {
     "name": "stdout",
     "output_type": "stream",
     "text": [
      "1.1920929e-07\n",
      "23\n"
     ]
    }
   ],
   "source": [
    "import numpy as np\n",
    "e32 = np.float32(1)\n",
    "i32 = 0\n",
    "while (np.float32(1) + e32) != (np.float32(1) + e32/np.float32(2)):\n",
    "    e32 = e32 / np.float32(2)\n",
    "    i32 += 1\n",
    "e32 *= np.float32(2)\n",
    "print(e32)\n",
    "print(i32-1)"
   ]
  },
  {
   "cell_type": "code",
   "execution_count": 2,
   "id": "16cc4203-9ccb-4c5d-82a1-4ca00469e0d9",
   "metadata": {
    "tags": []
   },
   "outputs": [
    {
     "name": "stdout",
     "output_type": "stream",
     "text": [
      "2.220446049250313e-16\n",
      "52\n"
     ]
    }
   ],
   "source": [
    "import numpy as np\n",
    "e64 = np.float64(1)\n",
    "i64 = 0\n",
    "while (np.float64(1) + e64) != (np.float64(1) + e64/np.float64(2)):\n",
    "    e64 = e64 / np.float64(2)\n",
    "    i64 += 1\n",
    "e64 *= np.float64(2)\n",
    "print(e64)\n",
    "print(i64-1)"
   ]
  },
  {
   "cell_type": "code",
   "execution_count": 3,
   "id": "043c3949-6dc4-42b5-8f34-7d702eb7482e",
   "metadata": {
    "tags": []
   },
   "outputs": [
    {
     "data": {
      "text/plain": [
       "True"
      ]
     },
     "execution_count": 3,
     "metadata": {},
     "output_type": "execute_result"
    }
   ],
   "source": [
    "np.float32(1) == np.float32(1) + e32/np.float32(2)"
   ]
  },
  {
   "cell_type": "code",
   "execution_count": 16,
   "id": "12b88553-1ec0-4470-a736-7c1efa5fbb26",
   "metadata": {
    "tags": []
   },
   "outputs": [
    {
     "data": {
      "text/plain": [
       "True"
      ]
     },
     "execution_count": 16,
     "metadata": {},
     "output_type": "execute_result"
    }
   ],
   "source": [
    "np.float32(1) + e32/np.float32(2) < np.float32(1) + e32"
   ]
  },
  {
   "cell_type": "code",
   "execution_count": 17,
   "id": "73139956-ddec-4141-b444-bebdfbda7672",
   "metadata": {
    "tags": []
   },
   "outputs": [
    {
     "data": {
      "text/plain": [
       "True"
      ]
     },
     "execution_count": 17,
     "metadata": {},
     "output_type": "execute_result"
    }
   ],
   "source": [
    "np.float32(1) + e32 < np.float32(1) + e32 + e32/np.float32(2)"
   ]
  },
  {
   "cell_type": "code",
   "execution_count": null,
   "id": "26e865a1-5606-4510-8500-74d09f056431",
   "metadata": {},
   "outputs": [],
   "source": []
  }
 ],
 "metadata": {
  "kernelspec": {
   "display_name": "Python 3 (ipykernel)",
   "language": "python",
   "name": "python3"
  },
  "language_info": {
   "codemirror_mode": {
    "name": "ipython",
    "version": 3
   },
   "file_extension": ".py",
   "mimetype": "text/x-python",
   "name": "python",
   "nbconvert_exporter": "python",
   "pygments_lexer": "ipython3",
   "version": "3.11.3"
  }
 },
 "nbformat": 4,
 "nbformat_minor": 5
}
