{
 "cells": [
  {
   "cell_type": "code",
   "execution_count": 1,
   "id": "6db15ccc-8708-407a-bf7a-1079837a1830",
   "metadata": {
    "tags": []
   },
   "outputs": [],
   "source": [
    "import numpy as np\n",
    "_ = np.seterr(all='raise')"
   ]
  },
  {
   "cell_type": "code",
   "execution_count": 2,
   "id": "e4bb07c0-04ef-4338-9e40-8050d31b3479",
   "metadata": {
    "tags": []
   },
   "outputs": [],
   "source": [
    "def f(x):  # задаем ур-е f(x) = 0\n",
    "    m = 1\n",
    "    a = 1\n",
    "    U = 10\n",
    "    h = 1\n",
    "    try:\n",
    "        return 1/np.tan(np.sqrt(2*m*(a**2)*U*(1-x)/(h**2))) - np.sqrt(1/x - 1)\n",
    "    except FloatingPointError as e:\n",
    "        print(e, \"x =\", x)\n",
    "\n",
    "def df(x):  # его производная (для других методов)\n",
    "    m = 1\n",
    "    a = 1\n",
    "    U = 1\n",
    "    h = 1\n",
    "    A =  2*m*(a**2)*U/(h**2)\n",
    "    try:\n",
    "        return (A /(np.sin(np.sqrt(A-A*x)))**2 / (2 * np.sqrt(A-A*x))) + 1/(2*x*np.sqrt(x-x**2))\n",
    "    except FloatingPointError as e:\n",
    "        print(e, \"x =\", x)"
   ]
  },
  {
   "cell_type": "code",
   "execution_count": 3,
   "id": "6d2f8268-ff95-4d8e-821b-c54d4f101cdf",
   "metadata": {
    "tags": []
   },
   "outputs": [
    {
     "data": {
      "text/plain": [
       "[<matplotlib.lines.Line2D at 0x7fd36a794710>]"
      ]
     },
     "execution_count": 3,
     "metadata": {},
     "output_type": "execute_result"
    },
    {
     "data": {
      "image/png": "[encoded data removed]",
      "text/plain": [
       "<Figure size 640x480 with 1 Axes>"
      ]
     },
     "metadata": {},
     "output_type": "display_data"
    }
   ],
   "source": [
    "import matplotlib.pyplot as plt  # строим графики\n",
    "a = 0.4\n",
    "b = 0.6\n",
    "x = np.linspace(a, b, 100)\n",
    "y = [f(xi) for xi in x]\n",
    "plt.grid(True)\n",
    "plt.plot(x, y)"
   ]
  },
  {
   "cell_type": "code",
   "execution_count": 4,
   "id": "068982bf-c8d2-4b2a-b542-3650744615cb",
   "metadata": {
    "tags": []
   },
   "outputs": [],
   "source": [
    "# алгоритм деления отрезка\n",
    "def dichotomy_simple(f, a, b, e = 0.001):\n",
    "    i = 1\n",
    "    while b - a > e:\n",
    "        if f(a) * f((a + b) / 2) <= 0:\n",
    "            b = (a + b) / 2\n",
    "        else:\n",
    "            a = (a + b) / 2\n",
    "        i += 1\n",
    "    return a, b, i\n",
    "\n",
    "\n",
    "# более эффективный алгоритм (вычисляем f(x) не 2 а 1 раз за цикл)\n",
    "def dichotomy_efficient(f, a, b, e = 0.001):\n",
    "    i = 1\n",
    "    f_a = f(a)\n",
    "    while b - a > e:\n",
    "        m = (a + b) / 2\n",
    "        f_m = f(m)\n",
    "        if f_a * f_m <= 0:\n",
    "            b = m\n",
    "        else:\n",
    "            a = m\n",
    "            f_a = f_m\n",
    "        i += 1\n",
    "    return a, b, i"
   ]
  },
  {
   "cell_type": "code",
   "execution_count": 5,
   "id": "6ff06487-e3d9-49a3-996b-d50fc899cd6f",
   "metadata": {
    "tags": []
   },
   "outputs": [
    {
     "name": "stdout",
     "output_type": "stream",
     "text": [
      "N = 51.0\n",
      "0.5065197799455319 0.5065197799455321 52\n",
      "0.5065197799455319 0.5065197799455321 52\n"
     ]
    }
   ],
   "source": [
    "e = np.finfo(float).eps\n",
    "a = 0.5\n",
    "b = 1\n",
    "\n",
    "print(\"N =\", np.log2((b-a)/e))  #  'предксказываем' сколько итераций проработает алгоритм\n",
    "\n",
    "# ответ между 1-м и 2-м числом. 3-е число - количество итераций\n",
    "print(*dichotomy_simple(f, a, b, e))\n",
    "print(*dichotomy_efficient(f, a, b, e))"
   ]
  },
  {
   "cell_type": "code",
   "execution_count": 6,
   "id": "7a03bf2f-a272-4fb8-b35e-5aa334dde7f8",
   "metadata": {
    "tags": []
   },
   "outputs": [
    {
     "name": "stdout",
     "output_type": "stream",
     "text": [
      "simple 0.000672590446472168\n",
      "efficient 0.00036608824729919434\n",
      "time_efficient / time_simple 0.54429593702881\n"
     ]
    }
   ],
   "source": [
    "# Решил сравнить время выполнения обычного и эффективного алгоритмов\n",
    "# (по заданию необязательно)\n",
    "import time\n",
    "time_simple = 0\n",
    "time_efficient = 0\n",
    "N = 5000\n",
    "for i in range(N):\n",
    "    now = time.time()\n",
    "    a1, b1, i1 = dichotomy_simple(f, a, b, e)\n",
    "    time_simple += time.time() - now\n",
    "\n",
    "    now = time.time()\n",
    "    a2, b2, i2 = dichotomy_efficient(f, a, b, e)\n",
    "    time_efficient += time.time() - now\n",
    "\n",
    "print(\"simple\", time_simple / N)\n",
    "print(\"efficient\", time_efficient / N)\n",
    "print(\"time_efficient / time_simple\", time_efficient / time_simple)"
   ]
  },
  {
   "cell_type": "code",
   "execution_count": 7,
   "id": "3d13f12c-93d2-4466-9891-3ad6d3216b56",
   "metadata": {
    "tags": []
   },
   "outputs": [
    {
     "name": "stdout",
     "output_type": "stream",
     "text": [
      "invalid value encountered in sqrt x = -3.3046185905235315\n"
     ]
    },
    {
     "ename": "TypeError",
     "evalue": "unsupported operand type(s) for +: 'NoneType' and 'float'",
     "output_type": "error",
     "traceback": [
      "\u001b[0;31m---------------------------------------------------------------------------\u001b[0m",
      "\u001b[0;31mTypeError\u001b[0m                                 Traceback (most recent call last)",
      "Cell \u001b[0;32mIn[7], line 23\u001b[0m\n\u001b[1;32m     20\u001b[0m             \u001b[38;5;28;01mbreak\u001b[39;00m\n\u001b[1;32m     21\u001b[0m     \u001b[38;5;28;01mreturn\u001b[39;00m x0, i\n\u001b[0;32m---> 23\u001b[0m \u001b[38;5;28mprint\u001b[39m(\u001b[43msimple_iterations\u001b[49m\u001b[43m(\u001b[49m\u001b[43mphi\u001b[49m\u001b[43m,\u001b[49m\u001b[43m \u001b[49m\u001b[38;5;241;43m0.6\u001b[39;49m\u001b[43m)\u001b[49m)\n",
      "Cell \u001b[0;32mIn[7], line 15\u001b[0m, in \u001b[0;36msimple_iterations\u001b[0;34m(phi, x0, e)\u001b[0m\n\u001b[1;32m     13\u001b[0m i \u001b[38;5;241m=\u001b[39m \u001b[38;5;241m1\u001b[39m\n\u001b[1;32m     14\u001b[0m \u001b[38;5;28;01mwhile\u001b[39;00m \u001b[38;5;28;01mTrue\u001b[39;00m:\n\u001b[0;32m---> 15\u001b[0m     x \u001b[38;5;241m=\u001b[39m \u001b[43mphi\u001b[49m\u001b[43m(\u001b[49m\u001b[43mx0\u001b[49m\u001b[43m)\u001b[49m\n\u001b[1;32m     16\u001b[0m     prev_x \u001b[38;5;241m=\u001b[39m x0\n\u001b[1;32m     17\u001b[0m     x0 \u001b[38;5;241m=\u001b[39m x\n",
      "Cell \u001b[0;32mIn[7], line 3\u001b[0m, in \u001b[0;36mphi\u001b[0;34m(x)\u001b[0m\n\u001b[1;32m      2\u001b[0m \u001b[38;5;28;01mdef\u001b[39;00m \u001b[38;5;21mphi\u001b[39m(x):\n\u001b[0;32m----> 3\u001b[0m         \u001b[38;5;28;01mreturn\u001b[39;00m \u001b[43mf\u001b[49m\u001b[43m(\u001b[49m\u001b[43mx\u001b[49m\u001b[43m)\u001b[49m\u001b[43m \u001b[49m\u001b[38;5;241;43m+\u001b[39;49m\u001b[43m \u001b[49m\u001b[43mx\u001b[49m\n",
      "\u001b[0;31mTypeError\u001b[0m: unsupported operand type(s) for +: 'NoneType' and 'float'"
     ]
    },
    {
     "data": {
      "image/png": "[encoded data removed]",
      "text/plain": [
       "<Figure size 640x480 with 1 Axes>"
      ]
     },
     "metadata": {},
     "output_type": "display_data"
    }
   ],
   "source": [
    "# алгоритм 'простых итераций'\n",
    "def phi(x):\n",
    "        return f(x) + x\n",
    "a = 0.01\n",
    "b = 0.99\n",
    "x = np.linspace(a, b, 100)\n",
    "y = [phi(xi) for xi in x]\n",
    "plt.grid(True)\n",
    "plt.plot(x, y)\n",
    "plt.plot(x, x)  \n",
    "    \n",
    "def simple_iterations(phi, x0, e = 0.001):\n",
    "    i = 1\n",
    "    while True:\n",
    "        x = phi(x0)\n",
    "        prev_x = x0\n",
    "        x0 = x\n",
    "        i += 1\n",
    "        if np.abs(x - prev_x) < e:\n",
    "            break\n",
    "    return x0, i\n",
    "\n",
    "print(simple_iterations(phi, 0.6))"
   ]
  },
  {
   "cell_type": "code",
   "execution_count": null,
   "id": "2296ea7b-e182-4285-97b1-407dd18e84ea",
   "metadata": {},
   "outputs": [],
   "source": [
    "# алгоритм Ньютона\n",
    "def newton(f, df, x0, e = 0.001):\n",
    "    i = 1\n",
    "    while True:\n",
    "        x = x0 - f(x)/df(x)\n",
    "        prev_x = x0\n",
    "        x0 = x\n",
    "        i += 1\n",
    "        if np.abs(x - prev_x) < e:\n",
    "            break\n",
    "        return x, i\n",
    "\n",
    "print(simple_iterations(phi, 0.8))"
   ]
  }
 ],
 "metadata": {
  "kernelspec": {
   "display_name": "Python 3 (ipykernel)",
   "language": "python",
   "name": "python3"
  },
  "language_info": {
   "codemirror_mode": {
    "name": "ipython",
    "version": 3
   },
   "file_extension": ".py",
   "mimetype": "text/x-python",
   "name": "python",
   "nbconvert_exporter": "python",
   "pygments_lexer": "ipython3",
   "version": "3.11.3"
  }
 },
 "nbformat": 4,
 "nbformat_minor": 5
}
